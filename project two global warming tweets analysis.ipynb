{
 "cells": [
  {
   "cell_type": "markdown",
   "id": "0e9954ae-938e-4ed4-bfb5-254897867c07",
   "metadata": {
    "tags": []
   },
   "source": [
    "# Project two: Analytics of Global Warming Tweets on January 2023.\n",
    "This proejct is based on global warming tweets tweeted on January 2023. I have added emotion (anger, joy, opotimism and sadness) and gender at the end of each tweets. Emotion analysis was performed using a pre-trained model from Hugging Face (Twitter-roBERTa-base for Emotion Recognition). This is a roBERTa-base model trained on ~58M tweets and finetuned for emotion recognition with the TweetEval benchmark. Each tweet is classified into four emotions (joy, optimism, anger, and sadness) with a confidence score. In addition, gender was extracted based on first name of user account if a user account has a real first name and the gender can be identified by python package gender guesser. \n",
    "\n",
    "Please develop 10 questions you want to investiage based on your interest, use pyspark to answer the questions and visualiz your results. Please check my attached research paper for possible analysis you can conduct. This paper won the best paper award in a recent conference of Northeast Decision Science Institute. "
   ]
  },
  {
   "cell_type": "code",
   "execution_count": null,
   "id": "646d1f62-9544-4477-9e06-6c04918cb5d7",
   "metadata": {
    "tags": []
   },
   "outputs": [],
   "source": [
    "from pyspark.sql import SparkSession\n",
    "import pyspark.sql.functions as F\n",
    "from helper_functions import displayByGroup\n",
    "import os\n",
    "import pandas as pd\n",
    "import seaborn as sns\n",
    "import matplotlib.pyplot as plt\n",
    "\n",
    "# check if the Spark session is active. If it is activate, close it\n",
    "\n",
    "try:\n",
    "    if spark:\n",
    "        spark.stop()\n",
    "except:\n",
    "    pass    \n",
    "\n",
    "spark = (SparkSession.builder.appName(\"Multidimensional Data Frame\")\n",
    "        .config(\"spark.port.maxRetries\", \"100\")\n",
    "        .config(\"spark.sql.mapKeyDedupPolicy\", \"LAST_WIN\")  # This configuration allow the duplicate keys in the map data type.\n",
    "#        .config(\"spark.driver.memory\", \"16g\")\n",
    "        .getOrCreate())\n",
    "\n",
    "# confiture the log level (defaulty is WWARN)\n",
    "spark.sparkContext.setLogLevel('ERROR')\n",
    "\n",
    "# read the global warming tweets\n",
    "\n",
    "df=spark.read.parquet('/opt/shared/globalwarming_202301')"
   ]
  }
 ],
 "metadata": {
  "kernelspec": {
   "display_name": "Big Data Analytics",
   "language": "python",
   "name": "bigdataanalytics"
  },
  "language_info": {
   "codemirror_mode": {
    "name": "ipython",
    "version": 3
   },
   "file_extension": ".py",
   "mimetype": "text/x-python",
   "name": "python",
   "nbconvert_exporter": "python",
   "pygments_lexer": "ipython3",
   "version": "3.10.8"
  }
 },
 "nbformat": 4,
 "nbformat_minor": 5
}

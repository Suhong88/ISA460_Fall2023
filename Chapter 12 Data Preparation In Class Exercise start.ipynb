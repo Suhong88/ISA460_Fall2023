{
 "cells": [
  {
   "cell_type": "markdown",
   "id": "bd2eb877-925f-4cc9-a084-44619f6af273",
   "metadata": {},
   "source": [
    "# In class exercise\n",
    "This exercise is based on the global warming tweets in January 2023. I have selected four metrics related to each account (followers count, following count, listed count and tweet count). Please complete the following steps:\n",
    "- find out whether they include any null values\n",
    "- develop a strategy to replace null values\n",
    "- find out outliers of those metrics\n",
    "- develop a strategy to replace/remove outliers"
   ]
  },
  {
   "cell_type": "code",
   "execution_count": null,
   "id": "0399830c-1fc4-429f-9230-691f425ef0de",
   "metadata": {
    "tags": []
   },
   "outputs": [],
   "source": [
    "from pyspark.sql import SparkSession\n",
    "import pyspark.sql.functions as F\n",
    "from helper_functions import displayByGroup\n",
    "import os\n",
    "import pandas as pd\n",
    "import seaborn as sns\n",
    "import matplotlib.pyplot as plt\n",
    "\n",
    "# check if the Spark session is active. If it is activate, close it\n",
    "\n",
    "try:\n",
    "    if spark:\n",
    "        spark.stop()\n",
    "except:\n",
    "    pass    \n",
    "\n",
    "spark = (SparkSession.builder.appName(\"Multidimensional Data Frame\")\n",
    "        .config(\"spark.port.maxRetries\", \"100\")\n",
    "        .config(\"spark.sql.mapKeyDedupPolicy\", \"LAST_WIN\")  # This configuration allow the duplicate keys in the map data type.\n",
    "#        .config(\"spark.driver.memory\", \"16g\")\n",
    "        .getOrCreate())\n",
    "\n",
    "# confiture the log level (defaulty is WWARN)\n",
    "spark.sparkContext.setLogLevel('ERROR')\n",
    "\n",
    "# read the global warming tweets\n",
    "\n",
    "df=spark.read.parquet('/opt/shared/globalwarming_202301')"
   ]
  },
  {
   "cell_type": "code",
   "execution_count": null,
   "id": "b3129c4c-bf08-4902-86de-489600febf70",
   "metadata": {
    "tags": []
   },
   "outputs": [],
   "source": [
    "df.select('author.public_metrics').printSchema()"
   ]
  },
  {
   "cell_type": "code",
   "execution_count": null,
   "id": "1d38af3c-8166-4168-b71e-4a6f9150bf98",
   "metadata": {
    "tags": []
   },
   "outputs": [],
   "source": [
    "df1=df.select('author.name', 'author.public_metrics.followers_count', 'author.public_metrics.following_count',\n",
    "          'author.public_metrics.listed_count', \n",
    "          'author.public_metrics.tweet_count').distinct()\n",
    "\n",
    "df1.orderBy('name').show()"
   ]
  },
  {
   "cell_type": "markdown",
   "id": "240938c4-6f59-4ac6-aeec-eea0411e3e76",
   "metadata": {},
   "source": [
    "Look at the above table, why some name appears multiple times?"
   ]
  },
  {
   "cell_type": "code",
   "execution_count": null,
   "id": "8a18616c-6d9b-4d1d-8970-73e79c6e7881",
   "metadata": {
    "tags": []
   },
   "outputs": [],
   "source": [
    "df1=df.select('author.id','author.name', 'created_at', 'author.public_metrics.followers_count', 'author.public_metrics.following_count',\n",
    "          'author.public_metrics.listed_count', \n",
    "          'author.public_metrics.tweet_count').distinct()\n",
    "\n",
    "df1.orderBy('name').show()"
   ]
  },
  {
   "cell_type": "code",
   "execution_count": null,
   "id": "10b4a1be-bb18-4832-bb22-067fe26e35dc",
   "metadata": {
    "tags": []
   },
   "outputs": [],
   "source": [
    "# for each account, we need to use the metrics from the most recent date\n",
    "\n",
    "from pyspark.sql.window import Window\n",
    "from pyspark.sql.functions import rank, desc, col\n",
    "\n",
    "windowSpec=Window.partitionBy('id').orderBy(desc('created_at'))\n",
    "\n",
    "df2=df1.withColumn('rank', rank().over(windowSpec)).filter(col('rank')==1).drop('rank')\n",
    "\n",
    "df2.select('name', 'followers_count').orderBy('name').show()"
   ]
  },
  {
   "cell_type": "code",
   "execution_count": null,
   "id": "30109650-eddb-4a57-8c9d-af9378a8474c",
   "metadata": {
    "tags": []
   },
   "outputs": [],
   "source": [
    "metrics=['followers_count',\n",
    " 'following_count',\n",
    " 'listed_count',\n",
    " 'tweet_count']\n",
    "\n",
    "df2.select(metrics).summary().show()"
   ]
  },
  {
   "cell_type": "code",
   "execution_count": null,
   "id": "d6940f27-5123-4611-8bdb-63467ac99389",
   "metadata": {},
   "outputs": [],
   "source": []
  }
 ],
 "metadata": {
  "kernelspec": {
   "display_name": "Big Data Analytics",
   "language": "python",
   "name": "bigdataanalytics"
  },
  "language_info": {
   "codemirror_mode": {
    "name": "ipython",
    "version": 3
   },
   "file_extension": ".py",
   "mimetype": "text/x-python",
   "name": "python",
   "nbconvert_exporter": "python",
   "pygments_lexer": "ipython3",
   "version": "3.10.8"
  }
 },
 "nbformat": 4,
 "nbformat_minor": 5
}

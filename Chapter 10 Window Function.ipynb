{
 "cells": [
  {
   "cell_type": "markdown",
   "id": "71349ff1-3dd6-426e-bdca-3ded736ebb35",
   "metadata": {},
   "source": [
    "# Chapter Your data under a different lens: Window functions\n",
    "we will disucss\n",
    "- Window functions and the kind of data transformation they enable\n",
    "- Summarizing, ranking, and analyzing data using the different classes of window functions\n",
    "- Building static, growing, and unbounded windows to your functions\n",
    "- Apply UDF to windows as custom window functions"
   ]
  },
  {
   "cell_type": "code",
   "execution_count": 64,
   "id": "98dd82f1-09e6-4cc7-8654-463f9f295a54",
   "metadata": {
    "tags": []
   },
   "outputs": [],
   "source": [
    "import sys\n",
    "from pyspark.sql import SparkSession\n",
    "from pyspark.sql.utils import AnalysisException\n",
    "import pyspark.sql.functions as F\n",
    "import pyspark.sql.types as T\n",
    "import os\n",
    "import pandas as pd\n",
    "import seaborn as sns\n",
    "import matplotlib.pyplot as plt\n",
    "\n",
    "# change the account name to your email account\n",
    "account='sli'\n",
    "\n",
    "# define a root path to access the data in the DataAnalysisWithPythonAndPySpark\n",
    "root_path='/net/clusterhn/home/'+account+'/isa460/Data/'\n",
    "\n",
    "# append path to helper_functions to system path\n",
    "sys.path.append('/net/clusterhn/home/sli/isa460_sli')\n",
    "\n",
    "import helper_functions as H\n",
    "\n",
    "# check if the Spark session is active. If it is activate, close it\n",
    "\n",
    "try:\n",
    "    if spark:\n",
    "        spark.stop()\n",
    "except:\n",
    "    pass    \n",
    "\n",
    "spark = (SparkSession.builder.appName(\"Multidimensional Data Frame\")\n",
    "        .config(\"spark.port.maxRetries\", \"100\")\n",
    "        .config(\"spark.sql.mapKeyDedupPolicy\", \"LAST_WIN\")  # This configuration allow the duplicate keys in the map data type.\n",
    "       .config(\"spark.driver.memory\", \"16g\")\n",
    "        .getOrCreate())\n",
    "\n",
    "# confiture the log level (defaulty is WARN)\n",
    "spark.sparkContext.setLogLevel('ERROR')"
   ]
  },
  {
   "cell_type": "markdown",
   "id": "7568293f-70a2-4b8c-845c-ca9c3f3c10e1",
   "metadata": {},
   "source": [
    "# Weather data\n",
    "For this exercise, we will use the [National Oceanic and Atmospheric Administration’s (NOAA) Global Surface Summary of the Day (GSOD) data set](https://www.ncei.noaa.gov/metadata/geoportal/rest/metadata/item/gov.noaa.ncdc:C00516/html#) from Google BigQuery. We will focus on a particular weather station (Boston Logon 725090) between 2017-2019. See [data definition](https://www.ncei.noaa.gov/data/global-summary-of-the-day/doc/readme.txt) for each field"
   ]
  },
  {
   "cell_type": "code",
   "execution_count": 25,
   "id": "c11fce21-2dbc-4d16-b403-2514ffe4ad4a",
   "metadata": {
    "tags": []
   },
   "outputs": [],
   "source": [
    "# load data\n",
    "gsod=spark.read.parquet(root_path+'window/gsod.parquet').filter(F.col('stn')=='725090')\n",
    "\n",
    "gsod1=gsod.select('year', 'mo','da', 'temp')"
   ]
  },
  {
   "cell_type": "markdown",
   "id": "1a23f205-73ec-4bce-a1b7-a104200eea24",
   "metadata": {
    "tags": []
   },
   "source": [
    "## Identify the coldest day of each year"
   ]
  },
  {
   "cell_type": "code",
   "execution_count": 11,
   "id": "0defb26c-7033-4cce-af93-6955cbc024ec",
   "metadata": {
    "tags": []
   },
   "outputs": [
    {
     "name": "stdout",
     "output_type": "stream",
     "text": [
      "+----+---+---+----+\n",
      "|year| mo| da|temp|\n",
      "+----+---+---+----+\n",
      "|2017| 12| 29| 6.4|\n",
      "|2018| 01| 07| 4.9|\n",
      "|2019| 01| 21| 9.3|\n",
      "+----+---+---+----+\n",
      "\n"
     ]
    }
   ],
   "source": [
    "from pyspark.sql.window import Window\n",
    "\n",
    "result=gsod1.withColumn('coldestDay', F.min('temp').over(Window.partitionBy('year')))\n",
    "result.where('temp=coldestDay').drop('coldestDay').show()"
   ]
  },
  {
   "cell_type": "code",
   "execution_count": 16,
   "id": "43712d4d-05e2-4a42-9b3d-2b78311acc73",
   "metadata": {
    "tags": []
   },
   "outputs": [
    {
     "name": "stdout",
     "output_type": "stream",
     "text": [
      "+----+---+---+----+----------+\n",
      "|year| mo| da|temp|coldestDay|\n",
      "+----+---+---+----+----------+\n",
      "|2017| 12| 29| 6.4|       6.4|\n",
      "|2018| 01| 07| 4.9|       4.9|\n",
      "|2019| 01| 21| 9.3|       9.3|\n",
      "+----+---+---+----+----------+\n",
      "\n"
     ]
    }
   ],
   "source": [
    "# use Window function in select statement\n",
    "\n",
    "gsod1.select('year', 'mo', 'da', 'temp', F.min('temp').over(Window.partitionBy('year'))\n",
    "             .alias('coldestDay')).where('temp=coldestDay').drop('coldestDay').show()\n"
   ]
  },
  {
   "cell_type": "markdown",
   "id": "e5cb38b9-0703-4bb4-8027-0e8b71b80093",
   "metadata": {},
   "source": [
    "## Identify the hottest day of each year"
   ]
  },
  {
   "cell_type": "code",
   "execution_count": 18,
   "id": "6fda9070-7bfb-42dd-a8ff-7291906bfae5",
   "metadata": {
    "tags": []
   },
   "outputs": [
    {
     "name": "stdout",
     "output_type": "stream",
     "text": [
      "+----+---+---+----+\n",
      "|year| mo| da|temp|\n",
      "+----+---+---+----+\n",
      "|2017| 06| 13|84.8|\n",
      "|2018| 08| 29|89.3|\n",
      "|2019| 07| 21|90.2|\n",
      "+----+---+---+----+\n",
      "\n"
     ]
    }
   ],
   "source": [
    "gsod1.select('year', 'mo', 'da', 'temp', F.max('temp').over(Window.partitionBy('year'))\n",
    "             .alias('hottestDay')).where('temp=hottestDay').drop('hottestDay').show()\n"
   ]
  },
  {
   "cell_type": "markdown",
   "id": "5a0862e3-b7dc-4d33-a3c7-3d13db6150d6",
   "metadata": {},
   "source": [
    "## Ranking functions\n",
    "\n",
    "This section covers ranking functions: nonconsecutive ranks with rank(), consecutive ranks with dense_rank(), percentile ranks with percent_rank(), tiles with ntile(), and finally a bare row number with row_number(). Ranking functions are used for getting the top (or bottom) record for each window partition, or, more generally, for getting an order according to some column’s value."
   ]
  },
  {
   "cell_type": "markdown",
   "id": "eb59300b-ec14-4459-bfe8-97a52d55bc3c",
   "metadata": {},
   "source": [
    "## Identify the top 3 hottest days per year"
   ]
  },
  {
   "cell_type": "code",
   "execution_count": 28,
   "id": "c37eed37-1820-4c3e-a458-c980856aaaa2",
   "metadata": {
    "tags": []
   },
   "outputs": [
    {
     "name": "stdout",
     "output_type": "stream",
     "text": [
      "+----+---+---+----+----+\n",
      "|year| mo| da|temp|rank|\n",
      "+----+---+---+----+----+\n",
      "|2017| 06| 13|84.8|   1|\n",
      "|2017| 06| 12|84.0|   2|\n",
      "|2017| 07| 20|83.7|   3|\n",
      "|2017| 05| 18|83.7|   3|\n",
      "|2018| 08| 29|89.3|   1|\n",
      "|2018| 08| 07|86.4|   2|\n",
      "|2018| 08| 28|85.1|   3|\n",
      "|2019| 07| 21|90.2|   1|\n",
      "|2019| 07| 20|88.5|   2|\n",
      "|2019| 07| 30|84.6|   3|\n",
      "+----+---+---+----+----+\n",
      "\n"
     ]
    }
   ],
   "source": [
    "windowSpec=Window.partitionBy('year').orderBy(F.desc('temp'))\n",
    "\n",
    "gsod1.withColumn('rank', F.rank().over(windowSpec)).where('rank<=3').show()"
   ]
  },
  {
   "cell_type": "markdown",
   "id": "30ad78a1-a6c2-4e5e-a6b1-9b7e8c8a9698",
   "metadata": {},
   "source": [
    "## Identify the top 5% of the hottest day per year"
   ]
  },
  {
   "cell_type": "code",
   "execution_count": 32,
   "id": "70789683-90d2-44d3-8fe4-1262c9c01df2",
   "metadata": {
    "tags": []
   },
   "outputs": [
    {
     "name": "stdout",
     "output_type": "stream",
     "text": [
      "+----+---+---+----+------------------+\n",
      "|year| mo| da|temp|      percent_rank|\n",
      "+----+---+---+----+------------------+\n",
      "|2017| 08| 13|76.3|0.9505494505494505|\n",
      "|2017| 06| 24|76.3|0.9505494505494505|\n",
      "|2017| 06| 23|76.5|0.9560439560439561|\n",
      "|2017| 06| 25|76.7|0.9587912087912088|\n",
      "|2017| 07| 10|76.8|0.9615384615384616|\n",
      "|2017| 08| 21|77.2|0.9642857142857143|\n",
      "|2017| 08| 23|77.7| 0.967032967032967|\n",
      "|2017| 07| 22|78.4|0.9697802197802198|\n",
      "|2017| 08| 22|78.6|0.9725274725274725|\n",
      "|2017| 06| 11|78.6|0.9725274725274725|\n",
      "|2017| 07| 02|78.9| 0.978021978021978|\n",
      "|2017| 07| 19|79.3|0.9807692307692307|\n",
      "|2017| 07| 03|80.1|0.9835164835164835|\n",
      "|2017| 05| 19|80.2|0.9862637362637363|\n",
      "|2017| 07| 21|81.2| 0.989010989010989|\n",
      "|2017| 07| 20|83.7|0.9917582417582418|\n",
      "|2017| 05| 18|83.7|0.9917582417582418|\n",
      "|2017| 06| 12|84.0|0.9972527472527473|\n",
      "|2017| 06| 13|84.8|               1.0|\n",
      "|2018| 08| 27|80.3|0.9505494505494505|\n",
      "+----+---+---+----+------------------+\n",
      "only showing top 20 rows\n",
      "\n"
     ]
    }
   ],
   "source": [
    "windowSpec=Window.partitionBy('year').orderBy('temp')\n",
    "\n",
    "gsod1.withColumn('percent_rank', F.percent_rank().over(windowSpec)).where('percent_rank>=0.95').show()"
   ]
  },
  {
   "cell_type": "markdown",
   "id": "b32ff977-ba7d-484c-8a93-2bcd6eeb6be2",
   "metadata": {},
   "source": [
    "## Split the temp per year into 10 equal buckets (decile)"
   ]
  },
  {
   "cell_type": "code",
   "execution_count": 38,
   "id": "c211e40e-bf29-44a6-b467-bac683a1f2eb",
   "metadata": {
    "tags": []
   },
   "outputs": [
    {
     "name": "stdout",
     "output_type": "stream",
     "text": [
      "+----+------+-----+\n",
      "|year|decile|count|\n",
      "+----+------+-----+\n",
      "|2017|     1|   37|\n",
      "|2017|     2|   37|\n",
      "|2017|     3|   37|\n",
      "|2017|     4|   37|\n",
      "|2017|     5|   37|\n",
      "|2017|     6|   36|\n",
      "|2017|     7|   36|\n",
      "|2017|     8|   36|\n",
      "|2017|     9|   36|\n",
      "|2017|    10|   36|\n",
      "|2018|     1|   37|\n",
      "|2018|     2|   37|\n",
      "|2018|     3|   37|\n",
      "|2018|     4|   37|\n",
      "|2018|     5|   37|\n",
      "|2018|     6|   36|\n",
      "|2018|     7|   36|\n",
      "|2018|     8|   36|\n",
      "|2018|     9|   36|\n",
      "|2018|    10|   36|\n",
      "+----+------+-----+\n",
      "only showing top 20 rows\n",
      "\n"
     ]
    }
   ],
   "source": [
    "windowSpec=Window.partitionBy('year').orderBy('temp')\n",
    "\n",
    "gsod1.withColumn('decile', F.ntile(10).over(windowSpec)).groupBy('year', 'decile').count().orderBy('year', 'decile').show()"
   ]
  },
  {
   "cell_type": "code",
   "execution_count": 39,
   "id": "71e75fa5-9e1e-4e2b-b40e-4611d4f7f25e",
   "metadata": {
    "tags": []
   },
   "outputs": [
    {
     "name": "stdout",
     "output_type": "stream",
     "text": [
      "+----+---+---+----+------+\n",
      "|year| mo| da|temp|decile|\n",
      "+----+---+---+----+------+\n",
      "|2017| 12| 29| 6.4|     1|\n",
      "|2017| 12| 28|10.3|     1|\n",
      "|2017| 12| 30|10.8|     1|\n",
      "|2017| 12| 31|13.7|     1|\n",
      "|2017| 01| 09|15.4|     1|\n",
      "|2017| 02| 10|16.5|     1|\n",
      "|2017| 03| 12|16.7|     1|\n",
      "|2017| 12| 27|17.6|     1|\n",
      "|2017| 01| 08|17.9|     1|\n",
      "|2017| 03| 05|17.9|     1|\n",
      "|2017| 03| 11|18.8|     1|\n",
      "|2017| 03| 04|19.5|     1|\n",
      "|2017| 02| 11|20.8|     1|\n",
      "|2017| 12| 15|21.8|     1|\n",
      "|2017| 03| 13|21.8|     1|\n",
      "|2017| 01| 07|22.7|     1|\n",
      "|2017| 01| 10|22.9|     1|\n",
      "|2017| 12| 14|24.4|     1|\n",
      "|2017| 01| 31|24.9|     1|\n",
      "|2017| 03| 06|25.1|     1|\n",
      "+----+---+---+----+------+\n",
      "only showing top 20 rows\n",
      "\n"
     ]
    }
   ],
   "source": [
    "# check the temp in decile (10% of the coldest temperature in each year)\n",
    "windowSpec=Window.partitionBy('year').orderBy('temp')\n",
    "gsod1.withColumn('decile', F.ntile(10).over(windowSpec)).where('decile=1').show()"
   ]
  },
  {
   "cell_type": "markdown",
   "id": "3eb5a524-3c77-4ad1-bae8-691ca87730f2",
   "metadata": {},
   "source": [
    "## Add a row number to your data frame, ignore tie"
   ]
  },
  {
   "cell_type": "code",
   "execution_count": 40,
   "id": "52cdb2e5-3d38-461a-b7e6-f2c71e055718",
   "metadata": {
    "tags": []
   },
   "outputs": [
    {
     "name": "stdout",
     "output_type": "stream",
     "text": [
      "+----+---+---+----+----------+\n",
      "|year| mo| da|temp|row_number|\n",
      "+----+---+---+----+----------+\n",
      "|2017| 12| 29| 6.4|         1|\n",
      "|2017| 12| 28|10.3|         2|\n",
      "|2017| 12| 30|10.8|         3|\n",
      "|2017| 12| 31|13.7|         4|\n",
      "|2017| 01| 09|15.4|         5|\n",
      "|2017| 02| 10|16.5|         6|\n",
      "|2017| 03| 12|16.7|         7|\n",
      "|2017| 12| 27|17.6|         8|\n",
      "|2017| 01| 08|17.9|         9|\n",
      "|2017| 03| 05|17.9|        10|\n",
      "|2017| 03| 11|18.8|        11|\n",
      "|2017| 03| 04|19.5|        12|\n",
      "|2017| 02| 11|20.8|        13|\n",
      "|2017| 12| 15|21.8|        14|\n",
      "|2017| 03| 13|21.8|        15|\n",
      "|2017| 01| 07|22.7|        16|\n",
      "|2017| 01| 10|22.9|        17|\n",
      "|2017| 12| 14|24.4|        18|\n",
      "|2017| 01| 31|24.9|        19|\n",
      "|2017| 03| 06|25.1|        20|\n",
      "+----+---+---+----+----------+\n",
      "only showing top 20 rows\n",
      "\n"
     ]
    }
   ],
   "source": [
    "windowSpec=Window.partitionBy('year').orderBy('temp')\n",
    "gsod1.withColumn('row_number', F.row_number().over(windowSpec)).show()"
   ]
  },
  {
   "cell_type": "markdown",
   "id": "9728e28c-8bc1-404e-bff9-f3d947211c39",
   "metadata": {},
   "source": [
    "## Access the records before or after using lag() and lead()"
   ]
  },
  {
   "cell_type": "markdown",
   "id": "f823a4bb-3fa3-4770-9fd7-c7086a5b4dbe",
   "metadata": {},
   "source": [
    "## Display average daily temp change by month"
   ]
  },
  {
   "cell_type": "code",
   "execution_count": 53,
   "id": "5bdd10e5-c7da-4753-8214-c9293a0e9a20",
   "metadata": {
    "tags": []
   },
   "outputs": [
    {
     "name": "stdout",
     "output_type": "stream",
     "text": [
      "+----+---+------------------+\n",
      "|year| mo|     avgtempChange|\n",
      "+----+---+------------------+\n",
      "|2017| 01| 4.923333333333332|\n",
      "|2017| 02| 5.444444444444444|\n",
      "|2017| 03| 6.413333333333333|\n",
      "|2017| 04| 5.989655172413792|\n",
      "|2017| 05| 4.650000000000001|\n",
      "|2017| 06| 3.886206896551725|\n",
      "|2017| 07| 4.046666666666666|\n",
      "|2017| 08|2.3933333333333335|\n",
      "|2017| 09|3.5896551724137917|\n",
      "|2017| 10| 4.536666666666665|\n",
      "|2017| 11| 6.927586206896552|\n",
      "|2017| 12| 4.906666666666667|\n",
      "|2018| 02| 7.029629629629629|\n",
      "|2018| 03|2.7933333333333326|\n",
      "|2018| 04| 4.641379310344828|\n",
      "|2018| 05| 6.713333333333335|\n",
      "|2018| 06| 4.631034482758621|\n",
      "|2018| 07| 3.256666666666668|\n",
      "|2018| 08|3.9999999999999996|\n",
      "|2018| 09| 4.296551724137932|\n",
      "+----+---+------------------+\n",
      "only showing top 20 rows\n",
      "\n"
     ]
    }
   ],
   "source": [
    "windowSpec=Window.partitionBy('year', 'mo').orderBy('da')\n",
    "\n",
    "gsod2=gsod1.select('year', 'mo', 'da', 'temp', F.lag('temp').over(windowSpec).alias('pre_temp'))\n",
    "\n",
    "gsod3=gsod2.withColumn('temp_change', F.abs(F.col('temp')-F.col('pre_temp')))\n",
    "\n",
    "gsod3.groupBy('year', 'mo').agg(F.avg('temp_change').alias('avgtempChange')).show()"
   ]
  },
  {
   "cell_type": "code",
   "execution_count": 54,
   "id": "0c44b451-028f-43ce-800f-9b09089f7010",
   "metadata": {
    "tags": []
   },
   "outputs": [
    {
     "name": "stdout",
     "output_type": "stream",
     "text": [
      "+----+---+------------------+-------------------+------------------+\n",
      "|year| mo|     avgTempChange|      minTempChange|     maxTempChange|\n",
      "+----+---+------------------+-------------------+------------------+\n",
      "|2017| 01| 4.923333333333332|0.09999999999999787|              22.8|\n",
      "|2017| 02| 5.444444444444444|0.20000000000000284|15.899999999999999|\n",
      "|2017| 03| 6.413333333333333|0.10000000000000142|              18.7|\n",
      "|2017| 04| 5.989655172413792| 0.4000000000000057|20.200000000000003|\n",
      "|2017| 05| 4.650000000000001|                0.5|              22.0|\n",
      "|2017| 06| 3.886206896551725|0.20000000000000284|13.700000000000003|\n",
      "|2017| 07| 4.046666666666666|0.09999999999999432|10.400000000000006|\n",
      "|2017| 08|2.3933333333333335|0.09999999999999432|               8.0|\n",
      "|2017| 09|3.5896551724137917|0.09999999999999432|15.399999999999999|\n",
      "|2017| 10| 4.536666666666665|                0.0|14.600000000000001|\n",
      "|2017| 11| 6.927586206896552|0.10000000000000142|18.800000000000004|\n",
      "|2017| 12| 4.906666666666667|0.19999999999999574|12.900000000000002|\n",
      "|2018| 02| 7.029629629629629|                0.0|17.300000000000004|\n",
      "|2018| 03|2.7933333333333326|0.09999999999999432| 8.700000000000003|\n",
      "|2018| 04| 4.641379310344828|0.10000000000000142|11.699999999999996|\n",
      "|2018| 05| 6.713333333333335|                0.5|              21.0|\n",
      "|2018| 06| 4.631034482758621|                0.0|14.899999999999991|\n",
      "|2018| 07| 3.256666666666668|0.10000000000000853|11.400000000000006|\n",
      "|2018| 08|3.9999999999999996|                0.0|              12.5|\n",
      "|2018| 09| 4.296551724137932|                0.5|14.100000000000009|\n",
      "+----+---+------------------+-------------------+------------------+\n",
      "only showing top 20 rows\n",
      "\n"
     ]
    }
   ],
   "source": [
    "# display avg, max and min temp change by month\n",
    "\n",
    "gsod3.groupBy('year', 'mo').agg(F.avg('temp_change').alias('avgTempChange')\n",
    "                                , F.min('temp_change').alias('minTempChange')\n",
    "                               , F.max('temp_change').alias('maxTempChange')\n",
    "                               ).show()"
   ]
  },
  {
   "cell_type": "markdown",
   "id": "1a227580-5d8c-4871-ab4b-7ee88f116ddc",
   "metadata": {},
   "source": [
    "##Spark also provides the rowsBetween() and rangeBetween() methods to create window frame boundaries."
   ]
  },
  {
   "cell_type": "markdown",
   "id": "f7177adf-6116-44c0-b2aa-dc2f0a55db43",
   "metadata": {},
   "source": [
    "## Display three days moving average temp for each month"
   ]
  },
  {
   "cell_type": "code",
   "execution_count": 63,
   "id": "e809ba3e-fb84-4795-ad92-33f727b8cf16",
   "metadata": {
    "tags": []
   },
   "outputs": [
    {
     "name": "stdout",
     "output_type": "stream",
     "text": [
      "+----+---+---+----+------------------+\n",
      "|year| mo| da|temp|  3_day_moving_avg|\n",
      "+----+---+---+----+------------------+\n",
      "|2017| 01| 01|40.0|              40.0|\n",
      "|2017| 01| 02|35.1|             37.55|\n",
      "|2017| 01| 03|41.3|              38.8|\n",
      "|2017| 01| 04|42.6|39.666666666666664|\n",
      "|2017| 01| 05|31.9|              38.6|\n",
      "|2017| 01| 06|28.7|              34.4|\n",
      "|2017| 01| 07|22.7|27.766666666666666|\n",
      "|2017| 01| 08|17.9|23.099999999999998|\n",
      "|2017| 01| 09|15.4|18.666666666666664|\n",
      "|2017| 01| 10|22.9| 18.73333333333333|\n",
      "|2017| 01| 11|45.4|27.899999999999995|\n",
      "|2017| 01| 12|50.1| 39.46666666666667|\n",
      "|2017| 01| 13|48.6| 48.03333333333333|\n",
      "|2017| 01| 14|25.8|              41.5|\n",
      "|2017| 01| 15|31.4| 35.26666666666667|\n",
      "|2017| 01| 16|31.3|              29.5|\n",
      "|2017| 01| 17|37.2|33.300000000000004|\n",
      "|2017| 01| 18|37.8| 35.43333333333333|\n",
      "|2017| 01| 19|36.6|37.199999999999996|\n",
      "|2017| 01| 20|38.2| 37.53333333333334|\n",
      "+----+---+---+----+------------------+\n",
      "only showing top 20 rows\n",
      "\n"
     ]
    }
   ],
   "source": [
    "windowSpec=Window.partitionBy('year', 'mo').orderBy('year', 'mo', 'da').rowsBetween(-2,0)\n",
    "\n",
    "gsod1.withColumn('3_day_moving_avg', F.avg('temp').over(windowSpec)).show(20)"
   ]
  },
  {
   "cell_type": "markdown",
   "id": "2b590c80-604c-412d-a4a6-aabbf60c76e6",
   "metadata": {},
   "source": [
    "# Summary\n",
    "\n",
    "- Window functions are functions that are applied over a portion of a data frame called a window frame. They can perform aggregation, ranking, or analytical operations. A window function will return the data frame with the same number of records, unlike its siblings the groupby-aggregate operation and the group map UDF.\n",
    "- A window frame is defined through a window spec. A window spec mandates how the data frame is split (partitionBy()), how it’s ordered (orderBy()), and how it’s portioned (rowsBetween()/rangeBetween()).\n",
    "- By default, an unordered window frame will be unbounded, meaning that the window frame will be equal to the window partition for every record. An ordered window frame will grow to the left, meaning that each record will have a window frame ranging from the first record in the window partition to the current record.\n",
    "- A window can be bounded by row, meaning that the records included in the window frame are tied to the row boundaries passed as parameters (with the range boundaries added to the row number of the current row), or by range, meaning that the records included in the window frame depend on the value of the current row (with the range boundaries added to the value)."
   ]
  }
 ],
 "metadata": {
  "kernelspec": {
   "display_name": "Big Data Analytics",
   "language": "python",
   "name": "bigdataanalytics"
  },
  "language_info": {
   "codemirror_mode": {
    "name": "ipython",
    "version": 3
   },
   "file_extension": ".py",
   "mimetype": "text/x-python",
   "name": "python",
   "nbconvert_exporter": "python",
   "pygments_lexer": "ipython3",
   "version": "3.10.8"
  },
  "toc-autonumbering": true,
  "toc-showcode": false
 },
 "nbformat": 4,
 "nbformat_minor": 5
}

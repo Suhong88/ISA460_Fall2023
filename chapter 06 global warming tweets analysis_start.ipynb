{
 "cells": [
  {
   "cell_type": "markdown",
   "id": "0e9954ae-938e-4ed4-bfb5-254897867c07",
   "metadata": {
    "tags": []
   },
   "source": [
    "# Analysis of Global Warming Tweets on January 2023.\n",
    "This proejct is based on global warming tweets tweeted on January 2023. I have added emotion (anger, joy, opotimism and sadness) and gender at the end of each tweets. Emotion analysis was performed using a pre-trained model from Hugging Face (Twitter-roBERTa-base for Emotion Recognition). This is a roBERTa-base model trained on ~58M tweets and finetuned for emotion recognition with the TweetEval benchmark. Each tweet is classified into four emotions (joy, optimism, anger, and sadness) with a confidence score. In addition, gender is extracted based on first name of user account if a user account has a real first name and the gender can be identified by python package gender guesser. "
   ]
  },
  {
   "cell_type": "markdown",
   "id": "63ff41ee-70b1-4c95-a0d1-5c96345127d7",
   "metadata": {
    "tags": []
   },
   "source": [
    "# Read tweets into a data frame"
   ]
  },
  {
   "cell_type": "code",
   "execution_count": null,
   "id": "646d1f62-9544-4477-9e06-6c04918cb5d7",
   "metadata": {
    "tags": []
   },
   "outputs": [],
   "source": [
    "from pyspark.sql import SparkSession\n",
    "import pyspark.sql.functions as F\n",
    "from helper_functions import displayByGroup\n",
    "import os\n",
    "import pandas as pd\n",
    "import seaborn as sns\n",
    "import matplotlib.pyplot as plt\n",
    "\n",
    "# check if the Spark session is active. If it is activate, close it\n",
    "\n",
    "try:\n",
    "    if spark:\n",
    "        spark.stop()\n",
    "except:\n",
    "    pass    \n",
    "\n",
    "spark = (SparkSession.builder.appName(\"Multidimensional Data Frame\")\n",
    "        .config(\"spark.port.maxRetries\", \"100\")\n",
    "        .config(\"spark.sql.mapKeyDedupPolicy\", \"LAST_WIN\")  # This configuration allow the duplicate keys in the map data type.\n",
    "#        .config(\"spark.driver.memory\", \"16g\")\n",
    "        .getOrCreate())\n",
    "\n",
    "# confiture the log level (defaulty is WWARN)\n",
    "spark.sparkContext.setLogLevel('ERROR')\n",
    "\n",
    "# read the global warming tweets\n",
    "\n",
    "df=spark.read.parquet('/opt/shared/globalwarming_202301')"
   ]
  },
  {
   "cell_type": "markdown",
   "id": "15c361b6-f253-4b3f-8ea2-2a9dd25153a8",
   "metadata": {},
   "source": [
    "# In class exercise"
   ]
  },
  {
   "cell_type": "markdown",
   "id": "675df85d-1aa1-4e0c-b5b1-8685c447bab9",
   "metadata": {},
   "source": [
    "## Extract mentions of each tweet account received."
   ]
  },
  {
   "cell_type": "code",
   "execution_count": null,
   "id": "96be4cbc-2d4e-471f-9eea-7891909dc044",
   "metadata": {
    "tags": []
   },
   "outputs": [],
   "source": [
    "#df.select('author').printSchema()"
   ]
  },
  {
   "cell_type": "code",
   "execution_count": null,
   "id": "65dd1611-b76f-4173-916c-14daee985864",
   "metadata": {
    "tags": []
   },
   "outputs": [],
   "source": [
    "df.select('author.entities.description.mentions').printSchema()"
   ]
  },
  {
   "cell_type": "code",
   "execution_count": null,
   "id": "7da396ed-44f5-4d34-8033-1ecd012f8844",
   "metadata": {
    "tags": []
   },
   "outputs": [],
   "source": [
    "from pyspark.sql.functions import col, explode, desc\n",
    "df1=df.select('author.username', col('author.entities.description.mentions.username').alias('mentions')).filter(F.col('mentions').isNotNull())\n",
    "\n",
    "df2=df1.select('username', explode('mentions').alias('mentions'))"
   ]
  },
  {
   "cell_type": "code",
   "execution_count": null,
   "id": "730ad171-2fd5-48c7-bf0a-03f70e133588",
   "metadata": {},
   "outputs": [],
   "source": [
    "# users who received most mentions\n",
    "\n",
    "df2.groupBy('mentions').count().orderBy(desc('count')).show()"
   ]
  },
  {
   "cell_type": "code",
   "execution_count": null,
   "id": "48e8b21f-c8fc-4bc3-8524-eaa693741889",
   "metadata": {
    "tags": []
   },
   "outputs": [],
   "source": [
    "# user who mentioned most people\n",
    "\n",
    "df2.groupBy('username').count().orderBy(desc('count')).show()"
   ]
  },
  {
   "cell_type": "markdown",
   "id": "310863c9-214f-4ed5-8340-90b281795d0a",
   "metadata": {},
   "source": [
    "## extract user location from tweets"
   ]
  },
  {
   "cell_type": "code",
   "execution_count": null,
   "id": "327067e6-72ed-44fe-94f7-25ecd7ff63e3",
   "metadata": {
    "tags": []
   },
   "outputs": [],
   "source": []
  },
  {
   "cell_type": "markdown",
   "id": "a54909f8-fd1d-46e0-bb39-f8dc709cb40c",
   "metadata": {},
   "source": [
    "## Extract hashtags from tweets"
   ]
  },
  {
   "cell_type": "code",
   "execution_count": null,
   "id": "3c7c55f1-1acc-44b9-834e-3254fceba0f4",
   "metadata": {
    "tags": []
   },
   "outputs": [],
   "source": []
  },
  {
   "cell_type": "markdown",
   "id": "aeba920c-4fa1-46c1-afce-9b4a1cb139d6",
   "metadata": {},
   "source": [
    "## Extract Entity (place, person, organizations) from tweets"
   ]
  },
  {
   "cell_type": "code",
   "execution_count": null,
   "id": "423ae20c-c118-4abb-9901-bf015ca944a7",
   "metadata": {
    "tags": []
   },
   "outputs": [],
   "source": []
  },
  {
   "cell_type": "code",
   "execution_count": null,
   "id": "62e0a709-6bee-4b33-8cd0-22234bfec9eb",
   "metadata": {
    "tags": []
   },
   "outputs": [],
   "source": []
  },
  {
   "cell_type": "code",
   "execution_count": null,
   "id": "1195b384-7699-473f-a5ec-b6f6ec6d2207",
   "metadata": {},
   "outputs": [],
   "source": []
  }
 ],
 "metadata": {
  "kernelspec": {
   "display_name": "Big Data Analytics",
   "language": "python",
   "name": "bigdataanalytics"
  },
  "language_info": {
   "codemirror_mode": {
    "name": "ipython",
    "version": 3
   },
   "file_extension": ".py",
   "mimetype": "text/x-python",
   "name": "python",
   "nbconvert_exporter": "python",
   "pygments_lexer": "ipython3",
   "version": "3.10.8"
  }
 },
 "nbformat": 4,
 "nbformat_minor": 5
}
